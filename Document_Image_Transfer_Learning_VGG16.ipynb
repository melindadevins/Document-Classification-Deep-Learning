{
 "cells": [
  {
   "cell_type": "markdown",
   "metadata": {},
   "source": [
    "# Document Image Classification using Transfer Learning from VGG16  (pretrained with ImageNet dataset)\n",
    "\n",
    "This exercise classifies document image files, using pre-trained ConvNet VGG16. The project was conducted on private dataset. Print output is removed to protect provicy. \n",
    "\n",
    "\n",
    "### Reference:\n",
    "\n",
    "Binary class image recognition using Transfer Learning:\n",
    "https://blog.keras.io/\n",
    "https://blog.keras.io/building-powerful-image-classification-models-using-very-little-data.html\n",
    "\n",
    "Multi-class image recognition using Transfer Learning:\n",
    "https://www.codesofinterest.com/2017/08/bottleneck-features-multi-class-classification-keras.html\n",
    "\n",
    "Graph Model Traning History in Keras:\n",
    "https://www.codesofinterest.com/2017/03/graph-model-training-history-keras.html\n"
   ]
  },
  {
   "cell_type": "markdown",
   "metadata": {},
   "source": [
    "## Transfer Learning\n",
    "\n",
    "Transfer learning has become popular recently in computer vision, when there is not enough labled data to train a full neural network. It is observed that the lower layers of a neural network (such as CNN) are responsible to automatically extract basic visual features such as lines and shapes etc, thus a pre-trained NN can be \"transferred\" to recogenize different images with higher layers re-trained on the intented images.  "
   ]
  },
  {
   "cell_type": "code",
   "execution_count": 2,
   "metadata": {},
   "outputs": [
    {
     "name": "stderr",
     "output_type": "stream",
     "text": [
      "/anaconda/envs/keras2/lib/python3.6/site-packages/h5py/__init__.py:36: FutureWarning: Conversion of the second argument of issubdtype from `float` to `np.floating` is deprecated. In future, it will be treated as `np.float64 == np.dtype(float).type`.\n",
      "  from ._conv import register_converters as _register_converters\n",
      "Using TensorFlow backend.\n"
     ]
    }
   ],
   "source": [
    "#Using Bottleneck Features for Multi-Class Classification in Keras\n",
    "\n",
    "import numpy as np\n",
    "from keras.preprocessing.image import ImageDataGenerator, img_to_array, load_img\n",
    "from keras.models import Sequential\n",
    "from keras.layers import Dropout, Flatten, Dense\n",
    "from keras import applications\n",
    "from keras.utils.np_utils import to_categorical\n",
    "import matplotlib.pyplot as plt\n",
    "import math\n",
    "#import cv2"
   ]
  },
  {
   "cell_type": "markdown",
   "metadata": {},
   "source": [
    "### Dataset \n",
    "\n",
    "Dataset is pre-split into training and valiation, that are under directory \"data/train\" and \"data/validation\" corespondingly"
   ]
  },
  {
   "cell_type": "code",
   "execution_count": 3,
   "metadata": {},
   "outputs": [],
   "source": [
    "\n",
    "# dimensions of our images when loading.\n",
    "img_width, img_height = 224, 224\n",
    "\n",
    "top_model_weights_path = 'bottleneck_fc_model.h5'\n",
    "train_data_dir = 'data/Document_PNG/train'\n",
    "validation_data_dir = 'data/Document_PNG/validation'\n",
    "\n",
    "# number of epochs to train top model\n",
    "epochs = 50\n",
    "# batch size used by flow_from_directory and predict_generator\n",
    "batch_size = 16\n"
   ]
  },
  {
   "cell_type": "markdown",
   "metadata": {},
   "source": [
    "The basic technique of transfer learning is to get a pre-trained model (with the weights loaded) and remove final fully-connected layers from that model. We then use the remaining portion of the model as a feature extractor for our smaller dataset. These extracted features are called \"Bottleneck Features\". Then train the last fully-connected network block on those extracted bottleneck features in order to get the classes we need as outputs for our problem."
   ]
  },
  {
   "cell_type": "markdown",
   "metadata": {},
   "source": [
    "<img src=\"VGG16.png\">"
   ]
  },
  {
   "cell_type": "markdown",
   "metadata": {},
   "source": [
    "The data is split into training and validation. In each of training and validation directory, the class (category) should be used as sub-directory name. Under each sub-directory, there are the image files that belongs to that class."
   ]
  },
  {
   "cell_type": "code",
   "execution_count": 4,
   "metadata": {},
   "outputs": [],
   "source": [
    "def create_generator(root_path):\n",
    "    datagen = ImageDataGenerator(rescale=1. / 255)\n",
    "\n",
    "    generator = datagen.flow_from_directory(\n",
    "        root_path,\n",
    "        target_size=(img_width, img_height),\n",
    "        batch_size=batch_size,\n",
    "        class_mode=None,\n",
    "        shuffle=False)\n",
    "\n",
    "    # Comment out print statement to protect privacy\n",
    "    #generator.filenames contains all the filenames\n",
    "    #print('total number of samples = {0}'.format(len(generator.filenames)))\n",
    "    \n",
    "    # generator.class_indices is the map/dictionary for the class-names and their indexes\n",
    "    #print('number of categories= {0}'.format(len(generator.class_indices)))\n",
    "    \n",
    "    #print('\\ncategory vs. index mapping:')\n",
    "    #print(generator.class_indices)\n",
    "    \n",
    "    return generator\n",
    "    "
   ]
  },
  {
   "cell_type": "code",
   "execution_count": 5,
   "metadata": {},
   "outputs": [
    {
     "name": "stdout",
     "output_type": "stream",
     "text": [
      "Found 577 images belonging to 17 classes.\n"
     ]
    }
   ],
   "source": [
    "train_generator = create_generator(train_data_dir)"
   ]
  },
  {
   "cell_type": "code",
   "execution_count": 6,
   "metadata": {},
   "outputs": [
    {
     "name": "stdout",
     "output_type": "stream",
     "text": [
      "Found 64 images belonging to 17 classes.\n"
     ]
    }
   ],
   "source": [
    " \n",
    "validation_generator = create_generator(validation_data_dir)"
   ]
  },
  {
   "cell_type": "code",
   "execution_count": 6,
   "metadata": {},
   "outputs": [],
   "source": [
    "def save_bottlebeck_features(train_generator, validation_generator):\n",
    "    \n",
    "    # build the VGG16 network, use the weights trained on imagenet data\n",
    "    model = applications.VGG16(include_top=False, weights='imagenet')\n",
    "\n",
    "\n",
    "    nb_train_samples = len(train_generator.filenames)\n",
    "    num_classes = len(train_generator.class_indices)\n",
    "\n",
    "    predict_size_train = int(math.ceil(nb_train_samples / batch_size))\n",
    "\n",
    "    bottleneck_features_train = model.predict_generator(\n",
    "        train_generator, predict_size_train)\n",
    "\n",
    "    np.save('bottleneck_features_train.npy', bottleneck_features_train)\n",
    "\n",
    "   \n",
    "    nb_validation_samples = len(validation_generator.filenames)\n",
    "\n",
    "    predict_size_validation = int(\n",
    "        math.ceil(nb_validation_samples / batch_size))\n",
    "\n",
    "    bottleneck_features_validation = model.predict_generator(\n",
    "        validation_generator, predict_size_validation)\n",
    "\n",
    "    np.save('bottleneck_features_validation.npy',\n",
    "            bottleneck_features_validation)\n",
    "\n",
    "\n",
    "\n",
    "\n"
   ]
  },
  {
   "cell_type": "code",
   "execution_count": 7,
   "metadata": {},
   "outputs": [
    {
     "name": "stderr",
     "output_type": "stream",
     "text": [
      "/anaconda/envs/keras2/lib/python3.6/site-packages/PIL/Image.py:918: UserWarning: Palette images with Transparency   expressed in bytes should be converted to RGBA images\n",
      "  'to RGBA images')\n"
     ]
    }
   ],
   "source": [
    "save_bottlebeck_features(train_generator, validation_generator)\n"
   ]
  },
  {
   "cell_type": "code",
   "execution_count": 8,
   "metadata": {},
   "outputs": [],
   "source": [
    "def train_FC_model():\n",
    "    datagen_top = ImageDataGenerator(rescale=1. / 255)\n",
    "    generator_top = datagen_top.flow_from_directory(\n",
    "        train_data_dir,\n",
    "        target_size=(img_width, img_height),\n",
    "        batch_size=batch_size,\n",
    "        class_mode='categorical',\n",
    "        shuffle=False)\n",
    "\n",
    "    nb_train_samples = len(generator_top.filenames)\n",
    "    num_classes = len(generator_top.class_indices)\n",
    "\n",
    "    # save the class indices to use use later in predictions\n",
    "    np.save('class_indices.npy', generator_top.class_indices)\n",
    "\n",
    "    # load the bottleneck features saved earlier\n",
    "    train_data = np.load('bottleneck_features_train.npy')\n",
    "\n",
    "    # get the class lebels for the training data, in the original order\n",
    "    train_labels = generator_top.classes\n",
    "\n",
    "    # https://github.com/fchollet/keras/issues/3467\n",
    "    # convert the training labels to categorical vectors\n",
    "    train_labels = to_categorical(train_labels, num_classes=num_classes)\n",
    "\n",
    "    generator_top = datagen_top.flow_from_directory(\n",
    "        validation_data_dir,\n",
    "        target_size=(img_width, img_height),\n",
    "        batch_size=batch_size,\n",
    "        class_mode=None,\n",
    "        shuffle=False)\n",
    "\n",
    "    nb_validation_samples = len(generator_top.filenames)\n",
    "\n",
    "    validation_data = np.load('bottleneck_features_validation.npy')\n",
    "\n",
    "    validation_labels = generator_top.classes\n",
    "    validation_labels = to_categorical(\n",
    "        validation_labels, num_classes=num_classes)\n",
    "\n",
    "    model = Sequential()\n",
    "    model.add(Flatten(input_shape=train_data.shape[1:]))\n",
    "    model.add(Dense(256, activation='relu'))\n",
    "    model.add(Dropout(0.5))\n",
    "    \n",
    "    #model.add(Dense(num_classes, activation='sigmoid'))  # to get class prediction\n",
    "\n",
    "    model.add(Dense(num_classes, activation='softmax'))   # to get probability prediction\n",
    "    \n",
    "    model.compile(optimizer='rmsprop',\n",
    "                  loss='categorical_crossentropy', metrics=['accuracy'])\n",
    "\n",
    "    history = model.fit(train_data, train_labels,\n",
    "                        epochs=epochs,\n",
    "                        batch_size=batch_size,\n",
    "                        validation_data=(validation_data, validation_labels))\n",
    "\n",
    "    model.save_weights(top_model_weights_path)\n",
    "\n",
    "    (eval_loss, eval_accuracy) = model.evaluate(\n",
    "        validation_data, validation_labels, batch_size=batch_size, verbose=1)\n",
    "\n",
    "    print(\"[INFO] accuracy: {:.2f}%\".format(eval_accuracy * 100))\n",
    "    print(\"[INFO] Loss: {}\".format(eval_loss))\n",
    "\n",
    "    plt.figure(1)\n",
    "\n",
    "    # summarize history for accuracy\n",
    "\n",
    "    plt.subplot(211)\n",
    "    plt.plot(history.history['acc'])\n",
    "    plt.plot(history.history['val_acc'])\n",
    "    plt.title('model accuracy')\n",
    "    plt.ylabel('accuracy')\n",
    "    plt.xlabel('epoch')\n",
    "    plt.legend(['train', 'test'], loc='upper left')\n",
    "\n",
    "    # summarize history for loss\n",
    "\n",
    "    plt.subplot(212)\n",
    "    plt.plot(history.history['loss'])\n",
    "    plt.plot(history.history['val_loss'])\n",
    "    plt.title('model loss')\n",
    "    plt.ylabel('loss')\n",
    "    plt.xlabel('epoch')\n",
    "    plt.legend(['train', 'test'], loc='upper left')\n",
    "    plt.show()\n",
    "\n"
   ]
  },
  {
   "cell_type": "code",
   "execution_count": 10,
   "metadata": {
    "scrolled": false
   },
   "outputs": [
    {
     "name": "stdout",
     "output_type": "stream",
     "text": [
      "Found 577 images belonging to 17 classes.\n",
      "Found 64 images belonging to 17 classes.\n",
      "Train on 577 samples, validate on 64 samples\n",
      "Epoch 1/50\n",
      "577/577 [==============================] - 3s 6ms/step - loss: 8.0661 - acc: 0.4021 - val_loss: 7.0320 - val_acc: 0.3750\n",
      "Epoch 2/50\n",
      "577/577 [==============================] - 3s 5ms/step - loss: 2.2459 - acc: 0.6360 - val_loss: 1.5952 - val_acc: 0.6250\n",
      "Epoch 3/50\n",
      "577/577 [==============================] - 3s 5ms/step - loss: 1.0410 - acc: 0.7192 - val_loss: 1.3108 - val_acc: 0.6406\n",
      "Epoch 4/50\n",
      "577/577 [==============================] - 3s 5ms/step - loss: 0.7725 - acc: 0.7851 - val_loss: 1.2857 - val_acc: 0.6719\n",
      "Epoch 5/50\n",
      "577/577 [==============================] - 3s 5ms/step - loss: 0.6624 - acc: 0.8076 - val_loss: 1.9300 - val_acc: 0.5938\n",
      "Epoch 6/50\n",
      "577/577 [==============================] - 3s 5ms/step - loss: 0.6325 - acc: 0.8163 - val_loss: 0.9586 - val_acc: 0.7344\n",
      "Epoch 7/50\n",
      "577/577 [==============================] - 3s 5ms/step - loss: 0.5089 - acc: 0.8458 - val_loss: 1.2052 - val_acc: 0.7188\n",
      "Epoch 8/50\n",
      "577/577 [==============================] - 3s 5ms/step - loss: 0.4746 - acc: 0.8735 - val_loss: 1.1021 - val_acc: 0.7031\n",
      "Epoch 9/50\n",
      "577/577 [==============================] - 3s 5ms/step - loss: 0.3971 - acc: 0.8839 - val_loss: 0.9079 - val_acc: 0.7344\n",
      "Epoch 10/50\n",
      "577/577 [==============================] - 3s 5ms/step - loss: 0.3620 - acc: 0.8821 - val_loss: 0.7967 - val_acc: 0.8281\n",
      "Epoch 11/50\n",
      "577/577 [==============================] - 3s 5ms/step - loss: 0.4302 - acc: 0.8873 - val_loss: 0.8893 - val_acc: 0.7656\n",
      "Epoch 12/50\n",
      "577/577 [==============================] - 3s 5ms/step - loss: 0.3202 - acc: 0.9064 - val_loss: 0.9423 - val_acc: 0.7812\n",
      "Epoch 13/50\n",
      "577/577 [==============================] - 3s 5ms/step - loss: 0.3089 - acc: 0.9029 - val_loss: 0.7042 - val_acc: 0.8281\n",
      "Epoch 14/50\n",
      "577/577 [==============================] - 3s 5ms/step - loss: 0.2799 - acc: 0.9168 - val_loss: 0.8438 - val_acc: 0.8125\n",
      "Epoch 15/50\n",
      "577/577 [==============================] - 3s 5ms/step - loss: 0.2569 - acc: 0.9133 - val_loss: 0.7654 - val_acc: 0.8125\n",
      "Epoch 16/50\n",
      "577/577 [==============================] - 3s 5ms/step - loss: 0.2475 - acc: 0.9393 - val_loss: 0.7025 - val_acc: 0.8281\n",
      "Epoch 17/50\n",
      "577/577 [==============================] - 3s 5ms/step - loss: 0.2199 - acc: 0.9341 - val_loss: 0.7494 - val_acc: 0.8438\n",
      "Epoch 18/50\n",
      "577/577 [==============================] - 3s 5ms/step - loss: 0.2158 - acc: 0.9411 - val_loss: 0.8051 - val_acc: 0.8438\n",
      "Epoch 19/50\n",
      "577/577 [==============================] - 3s 5ms/step - loss: 0.2051 - acc: 0.9463 - val_loss: 0.6460 - val_acc: 0.7969\n",
      "Epoch 20/50\n",
      "577/577 [==============================] - 3s 5ms/step - loss: 0.1826 - acc: 0.9480 - val_loss: 0.9463 - val_acc: 0.8281\n",
      "Epoch 21/50\n",
      "577/577 [==============================] - 3s 5ms/step - loss: 0.1857 - acc: 0.9463 - val_loss: 0.7555 - val_acc: 0.8281\n",
      "Epoch 22/50\n",
      "577/577 [==============================] - 3s 5ms/step - loss: 0.2046 - acc: 0.9411 - val_loss: 1.0717 - val_acc: 0.8125\n",
      "Epoch 23/50\n",
      "577/577 [==============================] - 3s 5ms/step - loss: 0.1674 - acc: 0.9463 - val_loss: 1.0356 - val_acc: 0.8125\n",
      "Epoch 24/50\n",
      "577/577 [==============================] - 3s 5ms/step - loss: 0.1655 - acc: 0.9549 - val_loss: 0.7540 - val_acc: 0.8750\n",
      "Epoch 25/50\n",
      "577/577 [==============================] - 3s 5ms/step - loss: 0.1687 - acc: 0.9601 - val_loss: 1.0026 - val_acc: 0.8281\n",
      "Epoch 26/50\n",
      "577/577 [==============================] - 3s 5ms/step - loss: 0.1234 - acc: 0.9705 - val_loss: 0.9411 - val_acc: 0.8438\n",
      "Epoch 27/50\n",
      "577/577 [==============================] - 3s 5ms/step - loss: 0.1675 - acc: 0.9463 - val_loss: 0.8128 - val_acc: 0.8906\n",
      "Epoch 28/50\n",
      "577/577 [==============================] - 3s 5ms/step - loss: 0.1803 - acc: 0.9515 - val_loss: 0.9375 - val_acc: 0.8281\n",
      "Epoch 29/50\n",
      "577/577 [==============================] - 3s 5ms/step - loss: 0.1680 - acc: 0.9601 - val_loss: 0.8760 - val_acc: 0.8281\n",
      "Epoch 30/50\n",
      "577/577 [==============================] - 3s 5ms/step - loss: 0.1634 - acc: 0.9567 - val_loss: 0.8077 - val_acc: 0.8750\n",
      "Epoch 31/50\n",
      "577/577 [==============================] - 3s 5ms/step - loss: 0.1297 - acc: 0.9601 - val_loss: 0.8251 - val_acc: 0.8594\n",
      "Epoch 32/50\n",
      "577/577 [==============================] - 3s 5ms/step - loss: 0.2079 - acc: 0.9411 - val_loss: 1.1280 - val_acc: 0.8438\n",
      "Epoch 33/50\n",
      "577/577 [==============================] - 3s 5ms/step - loss: 0.1335 - acc: 0.9601 - val_loss: 1.2559 - val_acc: 0.8125\n",
      "Epoch 34/50\n",
      "577/577 [==============================] - 3s 5ms/step - loss: 0.1225 - acc: 0.9688 - val_loss: 0.8699 - val_acc: 0.8750\n",
      "Epoch 35/50\n",
      "577/577 [==============================] - 3s 5ms/step - loss: 0.1579 - acc: 0.9532 - val_loss: 0.7993 - val_acc: 0.8750\n",
      "Epoch 36/50\n",
      "577/577 [==============================] - 3s 5ms/step - loss: 0.1592 - acc: 0.9636 - val_loss: 0.9877 - val_acc: 0.8438\n",
      "Epoch 37/50\n",
      "577/577 [==============================] - 3s 5ms/step - loss: 0.1147 - acc: 0.9740 - val_loss: 1.0870 - val_acc: 0.8125\n",
      "Epoch 38/50\n",
      "577/577 [==============================] - 3s 5ms/step - loss: 0.1201 - acc: 0.9567 - val_loss: 1.0155 - val_acc: 0.8594\n",
      "Epoch 39/50\n",
      "577/577 [==============================] - 3s 5ms/step - loss: 0.1035 - acc: 0.9775 - val_loss: 0.7392 - val_acc: 0.8906\n",
      "Epoch 40/50\n",
      "577/577 [==============================] - 3s 5ms/step - loss: 0.1241 - acc: 0.9671 - val_loss: 0.7686 - val_acc: 0.8906\n",
      "Epoch 41/50\n",
      "577/577 [==============================] - 3s 5ms/step - loss: 0.0941 - acc: 0.9757 - val_loss: 0.9010 - val_acc: 0.8438\n",
      "Epoch 42/50\n",
      "577/577 [==============================] - 3s 5ms/step - loss: 0.1308 - acc: 0.9653 - val_loss: 0.8051 - val_acc: 0.8906\n",
      "Epoch 43/50\n",
      "577/577 [==============================] - 3s 5ms/step - loss: 0.0991 - acc: 0.9775 - val_loss: 0.9196 - val_acc: 0.8594\n",
      "Epoch 44/50\n",
      "577/577 [==============================] - 3s 5ms/step - loss: 0.0897 - acc: 0.9775 - val_loss: 0.6920 - val_acc: 0.9062\n",
      "Epoch 45/50\n",
      "577/577 [==============================] - 3s 5ms/step - loss: 0.1366 - acc: 0.9636 - val_loss: 0.8479 - val_acc: 0.8438\n",
      "Epoch 46/50\n",
      "577/577 [==============================] - 3s 5ms/step - loss: 0.0893 - acc: 0.9757 - val_loss: 0.7522 - val_acc: 0.8750\n",
      "Epoch 47/50\n",
      "577/577 [==============================] - 3s 5ms/step - loss: 0.0636 - acc: 0.9896 - val_loss: 0.9640 - val_acc: 0.8594\n",
      "Epoch 48/50\n",
      "577/577 [==============================] - 3s 5ms/step - loss: 0.0861 - acc: 0.9827 - val_loss: 0.8997 - val_acc: 0.8750\n",
      "Epoch 49/50\n",
      "577/577 [==============================] - 3s 5ms/step - loss: 0.1205 - acc: 0.9688 - val_loss: 0.9310 - val_acc: 0.8906\n",
      "Epoch 50/50\n",
      "577/577 [==============================] - 3s 5ms/step - loss: 0.0769 - acc: 0.9827 - val_loss: 0.8563 - val_acc: 0.8594\n",
      "64/64 [==============================] - 0s 539us/step\n",
      "[INFO] accuracy: 85.94%\n",
      "[INFO] Loss: 0.8562513440847397\n"
     ]
    },
    {
     "data": {
      "image/png": "[encoded data removed]",
      "text/plain": [
       "<Figure size 432x288 with 2 Axes>"
      ]
     },
     "metadata": {},
     "output_type": "display_data"
    }
   ],
   "source": [
    "train_FC_model()"
   ]
  },
  {
   "cell_type": "code",
   "execution_count": 11,
   "metadata": {},
   "outputs": [],
   "source": [
    "def predict(image_path):\n",
    "    # load the class_indices saved in the earlier step\n",
    "    class_dictionary = np.load('class_indices.npy').item()\n",
    "\n",
    "    num_classes = len(class_dictionary)\n",
    "\n",
    "    #load and pre-process the image\n",
    "    #orig = cv2.imread(image_path)\n",
    "    print(\"[INFO] loading and preprocessing image...\")\n",
    "    image = load_img(image_path, target_size=(224, 224))\n",
    "    image = img_to_array(image)\n",
    "\n",
    "    # Rescale the image, this is important, otherwise the predictions will be '0'\n",
    "    # This is because ImageDataGenerator set rescale=1. / 255, \n",
    "    # which means all data is re-scaled from a [0 - 255] range to [0 - 1.0]\n",
    "    image = image / 255\n",
    "    image = np.expand_dims(image, axis=0)\n",
    "\n",
    "    \n",
    "    # build the VGG16 network\n",
    "    model = applications.VGG16(include_top=False, weights='imagenet')\n",
    "\n",
    "    # get the bottleneck prediction from the pre-trained VGG16 model\n",
    "    bottleneck_prediction = model.predict(image)\n",
    "\n",
    "    # build top FC model block\n",
    "    model = Sequential()\n",
    "    model.add(Flatten(input_shape=bottleneck_prediction.shape[1:]))\n",
    "    model.add(Dense(256, activation='relu'))\n",
    "    model.add(Dropout(0.5))\n",
    "\n",
    "    #model.add(Dense(num_classes, activation='sigmoid'))  # to get class prediction\n",
    "    model.add(Dense(num_classes, activation='softmax'))   # to get probability prediction\n",
    "    \n",
    "    model.load_weights(top_model_weights_path)\n",
    "\n",
    "    # use the bottleneck prediction on the FC model to get the final classification\n",
    "    class_predicted = model.predict_classes(bottleneck_prediction)\n",
    "\n",
    "    #proba = model.predict_proba(bottleneck_prediction)\n",
    "    \n",
    "    output_y = model.predict(bottleneck_prediction)\n",
    "\n",
    "    inID = class_predicted[0]\n",
    "\n",
    "    inv_map = {v: k for k, v in class_dictionary.items()}\n",
    "\n",
    "    label = inv_map[inID]\n",
    "\n",
    "    # get the prediction label\n",
    "    print(\"Prediction: class ID: {}, Label: {}\".format(inID, label))\n",
    "    \n",
    "    #print(proba)\n",
    "    \n",
    "    predict1 = {}\n",
    "    for i in range(len(output_y[0])):\n",
    "        predict1[inv_map[i]] = output_y[0][i]\n",
    "\n",
    "    print(predict1)\n",
    "\n",
    "    print('sum of probability = {0}'.format(sum(output_y[0])))\n",
    "    \n",
    "    \n",
    "\n",
    "    # display the predictions with the image\n",
    "    '''\n",
    "    cv2.putText(orig, \"Predicted: {}\".format(label), (10, 30),\n",
    "                cv2.FONT_HERSHEY_PLAIN, 1.5, (43, 99, 255), 2)\n",
    "\n",
    "    cv2.imshow(\"Classification\", orig)\n",
    "    cv2.waitKey(0)\n",
    "    cv2.destroyAllWindows()\n",
    "    '''\n"
   ]
  },
  {
   "cell_type": "code",
   "execution_count": 12,
   "metadata": {},
   "outputs": [
    {
     "name": "stdout",
     "output_type": "stream",
     "text": [
      "[INFO] loading and preprocessing image...\n",
      "Prediction: class ID: 2, Label: Bank Statement\n",
      "{'1003': 4.6019258e-11, 'Allonge': 1.074794e-15, 'Bank Statement': 0.9999893, 'Closing Disclosure': 1.0242984e-05, 'Drivers Licence': 5.5398866e-11, 'Initial Escrow Disclosure': 2.5731388e-11, 'Loan Estimate': 6.347503e-11, 'Note': 1.6424876e-09, 'Notice of Servicing Transfer': 2.4302619e-08, 'Other': 3.825096e-12, 'Payment Coupon': 8.2235226e-16, 'Payment Letter': 3.1252334e-13, 'Paystubs': 2.6640052e-07, 'Right to Cancel': 1.7477422e-09, 'Security Instrument': 2.0486551e-10, 'Service Provider Disclosure': 3.120129e-13, 'W2': 2.975415e-07}\n",
      "sum of probability = 1.000000106182744\n"
     ]
    }
   ],
   "source": [
    " # add the path to your test image below\n",
    "image_path = './data/Document_PNG/validation/Bank Statement/Chase-bank-statement-2.png'\n",
    "predict(image_path)\n",
    "\n",
    "#cv2.destroyAllWindows()"
   ]
  },
  {
   "cell_type": "code",
   "execution_count": 15,
   "metadata": {},
   "outputs": [
    {
     "name": "stdout",
     "output_type": "stream",
     "text": [
      "[INFO] loading and preprocessing image...\n",
      "Prediction: class ID: 16, Label: W2\n",
      "{'1003': 4.2167032e-13, 'Allonge': 2.1861557e-26, 'Bank Statement': 4.5801533e-11, 'Closing Disclosure': 2.32946e-11, 'Drivers Licence': 1.9603533e-18, 'Initial Escrow Disclosure': 4.61914e-15, 'Loan Estimate': 3.567726e-12, 'Note': 1.7376846e-18, 'Notice of Servicing Transfer': 7.62583e-20, 'Other': 2.117874e-21, 'Payment Coupon': 1.2553912e-23, 'Payment Letter': 2.91536e-20, 'Paystubs': 1.8488071e-14, 'Right to Cancel': 2.6077193e-17, 'Security Instrument': 1.751361e-17, 'Service Provider Disclosure': 1.4223879e-22, 'W2': 1.0}\n",
      "sum of probability = 1.0000000000731086\n"
     ]
    }
   ],
   "source": [
    "image_path = './data/Document_PNG/validation/W2/W2 C-20173-0.PNG'\n",
    "predict(image_path)"
   ]
  },
  {
   "cell_type": "code",
   "execution_count": null,
   "metadata": {},
   "outputs": [],
   "source": []
  }
 ],
 "metadata": {
  "kernelspec": {
   "display_name": "Python 3",
   "language": "python",
   "name": "python3"
  },
  "language_info": {
   "codemirror_mode": {
    "name": "ipython",
    "version": 3
   },
   "file_extension": ".py",
   "mimetype": "text/x-python",
   "name": "python",
   "nbconvert_exporter": "python",
   "pygments_lexer": "ipython3",
   "version": "3.6.5"
  },
  "widgets": {
   "state": {},
   "version": "1.1.2"
  }
 },
 "nbformat": 4,
 "nbformat_minor": 2
}
